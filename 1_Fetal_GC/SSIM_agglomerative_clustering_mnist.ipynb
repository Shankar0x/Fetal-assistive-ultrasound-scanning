{
  "cells": [
    {
      "cell_type": "code",
      "execution_count": null,
      "metadata": {
        "id": "Yhk5ixidPJsg"
      },
      "outputs": [],
      "source": [
        "from keras.datasets import mnist\n",
        "(_, _), (test_X, test_y) = mnist.load_data()\n",
        "print('X_test:  '  + str(test_X.shape))\n",
        "print('Y_test:  '  + str(test_y.shape))"
      ]
    },
    {
      "cell_type": "code",
      "execution_count": null,
      "metadata": {
        "id": "2OQ3SKLpPYPJ"
      },
      "outputs": [],
      "source": [
        "# Working on a split of the training set\n",
        "images = test_X[:100]\n",
        "labels = test_y[:100]"
      ]
    },
    {
      "cell_type": "code",
      "execution_count": null,
      "metadata": {
        "colab": {
          "base_uri": "https://localhost:8080/",
          "height": 447
        },
        "id": "w3Jo5UnMkeR2",
        "outputId": "339c4d82-f9f3-4757-f7eb-b6bed5d49b2c"
      },
      "outputs": [
        {
          "name": "stdout",
          "output_type": "stream",
          "text": [
            "Label:  3\n"
          ]
        },
        {
          "data": {
            "image/png": "[encoded data removed]",
            "text/plain": [
              "<Figure size 640x480 with 1 Axes>"
            ]
          },
          "metadata": {},
          "output_type": "display_data"
        }
      ],
      "source": [
        "# Visualizing the images\n",
        "import matplotlib.pyplot as plt\n",
        "plt.imshow(images[44], cmap = 'gray')\n",
        "print(\"Label: \", labels[44])"
      ]
    },
    {
      "cell_type": "code",
      "execution_count": null,
      "metadata": {
        "id": "8P49R5YElmAU"
      },
      "outputs": [],
      "source": [
        "# SSIM calculation\n",
        "from skimage.metrics import structural_similarity as ssim\n",
        "def calc_ssim(img1, img2):\n",
        "  return ssim(img1, img2, data_range=img2.max() - img2.min())"
      ]
    },
    {
      "cell_type": "code",
      "execution_count": null,
      "metadata": {
        "id": "Oqsmv7jyk3Bq"
      },
      "outputs": [],
      "source": [
        "# Init a 2d numpy array\n",
        "import numpy as np\n",
        "ssim_matrix = []\n",
        "for i in range(len(images)):\n",
        "  inner_list = []\n",
        "  for j in range(len(images)):\n",
        "    inner_list.append(calc_ssim(images[i], images[j]))\n",
        "  ssim_matrix.append(inner_list)"
      ]
    },
    {
      "cell_type": "code",
      "execution_count": null,
      "metadata": {
        "id": "OUY7c9g0mzuq"
      },
      "outputs": [],
      "source": [
        "# Converting to numpy format\n",
        "ssim_matrix = np.array(ssim_matrix)\n",
        "ssim_matrix.shape"
      ]
    },
    {
      "cell_type": "code",
      "execution_count": null,
      "metadata": {
        "id": "7x_87DyTm6l4"
      },
      "outputs": [],
      "source": [
        "with open('ssim_matrix.npy', 'wb') as f:\n",
        "    np.save(f, ssim_matrix)"
      ]
    },
    {
      "cell_type": "code",
      "execution_count": null,
      "metadata": {
        "id": "SVmlkM67n96m"
      },
      "outputs": [],
      "source": []
    }
  ],
  "metadata": {
    "colab": {
      "provenance": []
    },
    "kernelspec": {
      "display_name": "Python 3",
      "name": "python3"
    },
    "language_info": {
      "name": "python",
      "version": "0.0.0"
    }
  },
  "nbformat": 4,
  "nbformat_minor": 0
}
