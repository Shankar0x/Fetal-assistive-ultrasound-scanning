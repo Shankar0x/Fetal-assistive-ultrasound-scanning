{
  "cells": [
    {
      "cell_type": "markdown",
      "metadata": {
        "id": "EjFcHi1F-5Gl"
      },
      "source": [
        "# Common functions"
      ]
    },
    {
      "cell_type": "code",
      "execution_count": 52,
      "metadata": {
        "colab": {
          "base_uri": "https://localhost:8080/"
        },
        "id": "QgQy7u8e_IKG",
        "outputId": "2d6fca38-1018-4efa-c2c7-ff6c27d0a36a"
      },
      "outputs": [],
      "source": [
        "from sklearn.datasets import fetch_openml\n",
        "\n",
        "import pandas as pd\n",
        "import numpy as np\n",
        "from scipy import sparse\n",
        "\n",
        "import networkx as nx\n",
        "import community.community_louvain as community_louvain\n",
        "from cdlib import algorithms\n",
        "\n",
        "import matplotlib as mpl\n",
        "import matplotlib.pyplot as plt\n",
        "\n",
        "import umap\n",
        "from sklearn.cluster import DBSCAN\n",
        "from sklearn.decomposition import PCA\n",
        "\n",
        "from sklearn.metrics.cluster import normalized_mutual_info_score\n",
        "from sklearn.metrics import accuracy_score\n",
        "from sklearn.metrics.pairwise import cosine_similarity\n",
        "from sklearn import metrics\n",
        "from sklearn.metrics import DistanceMetric"
      ]
    },
    {
      "cell_type": "code",
      "execution_count": 53,
      "metadata": {
        "id": "0_Y8eT_79wVu"
      },
      "outputs": [],
      "source": [
        "def reduce_dimensionality(array, n_components=15):\n",
        "    model = umap.UMAP(random_state=42, n_components=n_components, metric=\"cosine\")\n",
        "    reduced_dim_vec = model.fit_transform(array)\n",
        "    vectors_list = np.array_split(reduced_dim_vec, len(reduced_dim_vec))\n",
        "    return pd.Series(vectors_list).apply(lambda x: x.squeeze())"
      ]
    },
    {
      "cell_type": "code",
      "execution_count": 54,
      "metadata": {
        "id": "L2NyjSK1_rKy"
      },
      "outputs": [],
      "source": [
        "def dbscan_clusteriser(vectors:pd.Series, eps=0.25, min_samples=8):\n",
        "    vectors = np.stack(np.array(vectors))\n",
        "    model = DBSCAN(eps=eps,min_samples=min_samples)\n",
        "    model.fit(vectors)\n",
        "    return pd.Series(model.labels_)"
      ]
    },
    {
      "cell_type": "code",
      "execution_count": 55,
      "metadata": {
        "id": "xBlToYZ6_5C_"
      },
      "outputs": [],
      "source": [
        "def create_graph(vectors:pd.Series, threshold=None):\n",
        "    vector_list = vectors.tolist()   #Parse pandas.Series to list\n",
        "    W_sparse = sparse.csr_matrix(np.asarray(vector_list))  #Create Compress Sparse Row matrix\n",
        "    cos_sim = cosine_similarity(W_sparse)   #Calculate cosine similarity between all nodes\n",
        "    if threshold == None:\n",
        "        threshold = np.quantile(cos_sim.flatten(), [0.92])[0]   #Set up a threshold based on percentile\n",
        "    print(threshold)\n",
        "    adj_matrix = (cos_sim > threshold).astype(int)   #Create adjacency matrix based on threshold\n",
        "    adj_matrix = adj_matrix * cos_sim   #Add weights to adjecency matrix\n",
        "    g = nx.convert_matrix.from_numpy_array(adj_matrix)   #Create a graph\n",
        "    print(\"Number of nodes:\", g.number_of_nodes())\n",
        "    print(\"Number of edges:\", g.number_of_edges())\n",
        "    return g"
      ]
    },
    {
      "cell_type": "code",
      "execution_count": 56,
      "metadata": {
        "id": "MQhTJ9Oi_rNA"
      },
      "outputs": [],
      "source": [
        "def louvain_clusteriser(vectors:pd.Series, threshold=None):\n",
        "    g = create_graph(vectors, threshold)\n",
        "    partition = community_louvain.best_partition(g)\n",
        "    return pd.Series(list(partition.values()))"
      ]
    },
    {
      "cell_type": "code",
      "execution_count": 57,
      "metadata": {
        "id": "_qhjbguD_rPE"
      },
      "outputs": [],
      "source": [
        "def eigenvector_clusteriser(vectors: pd.Series, threshold=None):\n",
        "    g = create_graph(vectors, threshold)\n",
        "    print(\"Number of nodes:\", nx.number_of_nodes(g))\n",
        "    print(\"Number of edges:\", nx.number_of_edges(g))\n",
        "    print(\"Is directed:\", nx.is_directed(g))\n",
        "    comms = algorithms.eigenvector(g)\n",
        "    comms = comms.communities\n",
        "    comms = dict(sorted({item:list_id for list_id, l in enumerate(comms) for item in l}.items()))\n",
        "    return pd.Series(comms)"
      ]
    },
    {
      "cell_type": "code",
      "execution_count": 58,
      "metadata": {
        "id": "e0K03bey_2CB"
      },
      "outputs": [],
      "source": [
        "def map_to_most_common(df: pd.DataFrame):\n",
        "    df[\"cluster\"] = df[\"cluster\"].fillna(-1)   # Some algorithms return -1 when they don't find a community for a node.\n",
        "\n",
        "    # Create a pandas.Series where index is a cluster's label provided by algorithm and values are true labels\n",
        "    mappings_series = df.groupby(\"cluster\")[\"class\"].apply(lambda x: x.mode().iloc[0]).reset_index()\n",
        "    mappings = dict(zip(mappings_series[\"cluster\"], mappings_series[\"class\"]))\n",
        "\n",
        "    df[\"mapped_cluster\"] = df[\"cluster\"].map(mappings)\n",
        "    return df\n"
      ]
    },
    {
      "cell_type": "markdown",
      "metadata": {
        "id": "L8ZFCbHC-yVQ"
      },
      "source": [
        "# MNIST Experiments"
      ]
    },
    {
      "cell_type": "code",
      "execution_count": 59,
      "metadata": {
        "id": "u5-vDG7M-3SH"
      },
      "outputs": [],
      "source": [
        "import tensorflow as tf\n",
        "(X, y), _ = tf.keras.datasets.mnist.load_data()\n",
        "X = X.reshape(X.shape[0], -1)\n",
        "y = y.astype(np.uint8)"
      ]
    },
    {
      "cell_type": "code",
      "execution_count": 60,
      "metadata": {
        "id": "AQDTL3OI__OO"
      },
      "outputs": [],
      "source": [
        "X_train = X[:20000]"
      ]
    },
    {
      "cell_type": "code",
      "execution_count": 62,
      "metadata": {},
      "outputs": [
        {
          "data": {
            "text/plain": [
              "array([5, 0, 4, ..., 5, 6, 8], dtype=uint8)"
            ]
          },
          "execution_count": 62,
          "metadata": {},
          "output_type": "execute_result"
        }
      ],
      "source": [
        "y"
      ]
    },
    {
      "cell_type": "code",
      "execution_count": 11,
      "metadata": {
        "id": "lTOQ6Lnf__pu"
      },
      "outputs": [],
      "source": [
        "X_reduced = reduce_dimensionality(X_train)"
      ]
    },
    {
      "cell_type": "markdown",
      "metadata": {
        "id": "5hVPURAfAVuh"
      },
      "source": [
        "## DBSCAN"
      ]
    },
    {
      "cell_type": "code",
      "execution_count": 12,
      "metadata": {
        "id": "FI905k4eABJR"
      },
      "outputs": [],
      "source": [
        "clustered_dbscan_data = dbscan_clusteriser(X_reduced, eps=0.24, min_samples=8)"
      ]
    },
    {
      "cell_type": "code",
      "execution_count": 13,
      "metadata": {
        "id": "Cav9IhyLACve"
      },
      "outputs": [],
      "source": [
        "dbscan_df = pd.DataFrame(y[:20000], columns = [\"class\"])\n",
        "dbscan_df[\"cluster\"] = clustered_dbscan_data"
      ]
    },
    {
      "cell_type": "code",
      "execution_count": 14,
      "metadata": {
        "id": "ZBHM04PXAEFh"
      },
      "outputs": [],
      "source": [
        "dbscan_df = map_to_most_common(dbscan_df)"
      ]
    },
    {
      "cell_type": "code",
      "execution_count": 15,
      "metadata": {
        "colab": {
          "base_uri": "https://localhost:8080/"
        },
        "id": "QUvvw-FGAIeV",
        "outputId": "a0274874-d4cf-4a1a-e7c0-284fbb71c856"
      },
      "outputs": [
        {
          "name": "stdout",
          "output_type": "stream",
          "text": [
            "Accuracy:\n"
          ]
        },
        {
          "data": {
            "text/plain": [
              "0.77995"
            ]
          },
          "execution_count": 15,
          "metadata": {},
          "output_type": "execute_result"
        }
      ],
      "source": [
        "print(\"Accuracy:\")\n",
        "accuracy_score(dbscan_df[\"class\"], dbscan_df[\"mapped_cluster\"])"
      ]
    },
    {
      "cell_type": "code",
      "execution_count": 16,
      "metadata": {
        "colab": {
          "base_uri": "https://localhost:8080/"
        },
        "id": "8_qZ6jryALxK",
        "outputId": "1ac859d3-62f4-4e17-91ef-33501637b173"
      },
      "outputs": [
        {
          "name": "stdout",
          "output_type": "stream",
          "text": [
            "NMI:\n"
          ]
        },
        {
          "data": {
            "text/plain": [
              "0.8333803386579535"
            ]
          },
          "execution_count": 16,
          "metadata": {},
          "output_type": "execute_result"
        }
      ],
      "source": [
        "print(\"NMI:\")\n",
        "normalized_mutual_info_score(dbscan_df[\"class\"], dbscan_df[\"mapped_cluster\"])"
      ]
    },
    {
      "cell_type": "code",
      "execution_count": 17,
      "metadata": {
        "colab": {
          "base_uri": "https://localhost:8080/"
        },
        "id": "dyfwt2XiAOpa",
        "outputId": "5a91c3af-7059-4018-b7f3-98829ddd3366"
      },
      "outputs": [
        {
          "name": "stdout",
          "output_type": "stream",
          "text": [
            "Number of unique classes:\n"
          ]
        },
        {
          "data": {
            "text/plain": [
              "14"
            ]
          },
          "execution_count": 17,
          "metadata": {},
          "output_type": "execute_result"
        }
      ],
      "source": [
        "print(\"Number of unique classes:\")\n",
        "dbscan_df[\"cluster\"].nunique()"
      ]
    },
    {
      "cell_type": "markdown",
      "metadata": {
        "id": "EBCFGHbrAZu8"
      },
      "source": [
        "## Louvain method"
      ]
    },
    {
      "cell_type": "code",
      "execution_count": 21,
      "metadata": {
        "colab": {
          "base_uri": "https://localhost:8080/"
        },
        "id": "UChAw12GAQeQ",
        "outputId": "59461874-b2fe-4197-e57d-e17e1cb25d1a"
      },
      "outputs": [
        {
          "name": "stdout",
          "output_type": "stream",
          "text": [
            "0.9991\n",
            "Number of nodes: 20000\n",
            "Number of edges: 5592847\n"
          ]
        }
      ],
      "source": [
        "clustered_louvain_data = louvain_clusteriser(X_reduced, threshold=0.9991)"
      ]
    },
    {
      "cell_type": "code",
      "execution_count": 22,
      "metadata": {
        "id": "Ghg881JYAUJa"
      },
      "outputs": [],
      "source": [
        "louvain_df = pd.DataFrame(y[:20000], columns=[\"class\"])\n",
        "louvain_df[\"cluster\"] = clustered_louvain_data"
      ]
    },
    {
      "cell_type": "code",
      "execution_count": 23,
      "metadata": {
        "id": "AUWk8s2tBcL0"
      },
      "outputs": [],
      "source": [
        "louvain_df = map_to_most_common(louvain_df)"
      ]
    },
    {
      "cell_type": "code",
      "execution_count": 24,
      "metadata": {
        "colab": {
          "base_uri": "https://localhost:8080/"
        },
        "id": "i25f7WpxBds0",
        "outputId": "c1ab6f47-b99f-4d20-e433-5ebf221af741"
      },
      "outputs": [
        {
          "name": "stdout",
          "output_type": "stream",
          "text": [
            "Accuracy:\n"
          ]
        },
        {
          "data": {
            "text/plain": [
              "0.91965"
            ]
          },
          "execution_count": 24,
          "metadata": {},
          "output_type": "execute_result"
        }
      ],
      "source": [
        "print(\"Accuracy:\")\n",
        "accuracy_score(louvain_df[\"class\"], louvain_df[\"mapped_cluster\"])"
      ]
    },
    {
      "cell_type": "code",
      "execution_count": 25,
      "metadata": {
        "colab": {
          "base_uri": "https://localhost:8080/"
        },
        "id": "LRL-EubtBfJR",
        "outputId": "44199c74-bf91-472d-82de-2ecfba7b5826"
      },
      "outputs": [
        {
          "name": "stdout",
          "output_type": "stream",
          "text": [
            "NMI:\n"
          ]
        },
        {
          "data": {
            "text/plain": [
              "0.8731660669076261"
            ]
          },
          "execution_count": 25,
          "metadata": {},
          "output_type": "execute_result"
        }
      ],
      "source": [
        "print(\"NMI:\")\n",
        "normalized_mutual_info_score(louvain_df[\"class\"], louvain_df[\"mapped_cluster\"])"
      ]
    },
    {
      "cell_type": "code",
      "execution_count": 26,
      "metadata": {
        "colab": {
          "base_uri": "https://localhost:8080/"
        },
        "id": "gX_qDW52BgtT",
        "outputId": "31dce27f-973f-4389-90c8-77e6d25ee561"
      },
      "outputs": [
        {
          "name": "stdout",
          "output_type": "stream",
          "text": [
            "Number of unique classes:\n"
          ]
        },
        {
          "data": {
            "text/plain": [
              "12"
            ]
          },
          "execution_count": 26,
          "metadata": {},
          "output_type": "execute_result"
        }
      ],
      "source": [
        "print(\"Number of unique classes:\")\n",
        "louvain_df[\"cluster\"].nunique()"
      ]
    },
    {
      "cell_type": "code",
      "execution_count": 42,
      "metadata": {},
      "outputs": [
        {
          "data": {
            "text/html": [
              "<div>\n",
              "<style scoped>\n",
              "    .dataframe tbody tr th:only-of-type {\n",
              "        vertical-align: middle;\n",
              "    }\n",
              "\n",
              "    .dataframe tbody tr th {\n",
              "        vertical-align: top;\n",
              "    }\n",
              "\n",
              "    .dataframe thead th {\n",
              "        text-align: right;\n",
              "    }\n",
              "</style>\n",
              "<table border=\"1\" class=\"dataframe\">\n",
              "  <thead>\n",
              "    <tr style=\"text-align: right;\">\n",
              "      <th></th>\n",
              "      <th>class</th>\n",
              "      <th>cluster</th>\n",
              "      <th>mapped_cluster</th>\n",
              "    </tr>\n",
              "  </thead>\n",
              "  <tbody>\n",
              "    <tr>\n",
              "      <th>0</th>\n",
              "      <td>5</td>\n",
              "      <td>10</td>\n",
              "      <td>5</td>\n",
              "    </tr>\n",
              "    <tr>\n",
              "      <th>1</th>\n",
              "      <td>0</td>\n",
              "      <td>1</td>\n",
              "      <td>0</td>\n",
              "    </tr>\n",
              "    <tr>\n",
              "      <th>2</th>\n",
              "      <td>4</td>\n",
              "      <td>4</td>\n",
              "      <td>4</td>\n",
              "    </tr>\n",
              "    <tr>\n",
              "      <th>3</th>\n",
              "      <td>1</td>\n",
              "      <td>3</td>\n",
              "      <td>1</td>\n",
              "    </tr>\n",
              "    <tr>\n",
              "      <th>4</th>\n",
              "      <td>9</td>\n",
              "      <td>2</td>\n",
              "      <td>9</td>\n",
              "    </tr>\n",
              "    <tr>\n",
              "      <th>...</th>\n",
              "      <td>...</td>\n",
              "      <td>...</td>\n",
              "      <td>...</td>\n",
              "    </tr>\n",
              "    <tr>\n",
              "      <th>19995</th>\n",
              "      <td>9</td>\n",
              "      <td>4</td>\n",
              "      <td>4</td>\n",
              "    </tr>\n",
              "    <tr>\n",
              "      <th>19996</th>\n",
              "      <td>5</td>\n",
              "      <td>10</td>\n",
              "      <td>5</td>\n",
              "    </tr>\n",
              "    <tr>\n",
              "      <th>19997</th>\n",
              "      <td>1</td>\n",
              "      <td>6</td>\n",
              "      <td>1</td>\n",
              "    </tr>\n",
              "    <tr>\n",
              "      <th>19998</th>\n",
              "      <td>4</td>\n",
              "      <td>4</td>\n",
              "      <td>4</td>\n",
              "    </tr>\n",
              "    <tr>\n",
              "      <th>19999</th>\n",
              "      <td>2</td>\n",
              "      <td>5</td>\n",
              "      <td>2</td>\n",
              "    </tr>\n",
              "  </tbody>\n",
              "</table>\n",
              "<p>20000 rows × 3 columns</p>\n",
              "</div>"
            ],
            "text/plain": [
              "       class  cluster  mapped_cluster\n",
              "0          5       10               5\n",
              "1          0        1               0\n",
              "2          4        4               4\n",
              "3          1        3               1\n",
              "4          9        2               9\n",
              "...      ...      ...             ...\n",
              "19995      9        4               4\n",
              "19996      5       10               5\n",
              "19997      1        6               1\n",
              "19998      4        4               4\n",
              "19999      2        5               2\n",
              "\n",
              "[20000 rows x 3 columns]"
            ]
          },
          "execution_count": 42,
          "metadata": {},
          "output_type": "execute_result"
        }
      ],
      "source": [
        "louvain_df"
      ]
    },
    {
      "cell_type": "markdown",
      "metadata": {
        "id": "CKs7ZJ-nBnRB"
      },
      "source": [
        "## Newman's Leading Eigenvector algorithm"
      ]
    },
    {
      "cell_type": "code",
      "execution_count": 44,
      "metadata": {
        "colab": {
          "base_uri": "https://localhost:8080/"
        },
        "id": "7-rsvkhIBkgM",
        "outputId": "6e9076ee-3a72-4468-e416-9d60c492f56a"
      },
      "outputs": [
        {
          "name": "stdout",
          "output_type": "stream",
          "text": [
            "0.9991\n",
            "Number of nodes: 20000\n",
            "Number of edges: 5592847\n",
            "Number of nodes: 20000\n",
            "Number of edges: 5592847\n",
            "Is directed: False\n"
          ]
        }
      ],
      "source": [
        "clustered_eigenvector_data = eigenvector_clusteriser(X_reduced, threshold=0.9991)"
      ]
    },
    {
      "cell_type": "code",
      "execution_count": 45,
      "metadata": {
        "colab": {
          "base_uri": "https://localhost:8080/",
          "height": 304
        },
        "id": "ed5MQuYqBtt5",
        "outputId": "9b46c07a-23ae-4724-84a6-9e6406344c1d"
      },
      "outputs": [],
      "source": [
        "eigenvector_df = pd.DataFrame(y[:20000], columns=[\"class\"])\n",
        "eigenvector_df[\"cluster\"] = clustered_eigenvector_data"
      ]
    },
    {
      "cell_type": "code",
      "execution_count": 46,
      "metadata": {
        "id": "uYhdwt1sBvNu"
      },
      "outputs": [],
      "source": [
        "eigenvector_df = map_to_most_common(eigenvector_df)"
      ]
    },
    {
      "cell_type": "code",
      "execution_count": 47,
      "metadata": {
        "id": "tfPss730mEhG"
      },
      "outputs": [
        {
          "name": "stdout",
          "output_type": "stream",
          "text": [
            "Accuracy:\n"
          ]
        },
        {
          "data": {
            "text/plain": [
              "0.953"
            ]
          },
          "execution_count": 47,
          "metadata": {},
          "output_type": "execute_result"
        }
      ],
      "source": [
        "print(\"Accuracy:\")\n",
        "accuracy_score(eigenvector_df[\"class\"], eigenvector_df[\"mapped_cluster\"])"
      ]
    },
    {
      "cell_type": "code",
      "execution_count": 48,
      "metadata": {},
      "outputs": [
        {
          "name": "stdout",
          "output_type": "stream",
          "text": [
            "NMI:\n"
          ]
        },
        {
          "data": {
            "text/plain": [
              "0.8939314181130542"
            ]
          },
          "execution_count": 48,
          "metadata": {},
          "output_type": "execute_result"
        }
      ],
      "source": [
        "print(\"NMI:\")\n",
        "normalized_mutual_info_score(eigenvector_df[\"class\"], eigenvector_df[\"mapped_cluster\"])"
      ]
    },
    {
      "cell_type": "code",
      "execution_count": 49,
      "metadata": {},
      "outputs": [
        {
          "name": "stdout",
          "output_type": "stream",
          "text": [
            "Number of unique classes:\n"
          ]
        },
        {
          "data": {
            "text/plain": [
              "12"
            ]
          },
          "execution_count": 49,
          "metadata": {},
          "output_type": "execute_result"
        }
      ],
      "source": [
        "print(\"Number of unique classes:\")\n",
        "eigenvector_df[\"cluster\"].nunique()"
      ]
    },
    {
      "cell_type": "code",
      "execution_count": 50,
      "metadata": {},
      "outputs": [
        {
          "name": "stdout",
          "output_type": "stream",
          "text": [
            "Accuracy:\n"
          ]
        },
        {
          "data": {
            "text/plain": [
              "0.946"
            ]
          },
          "execution_count": 50,
          "metadata": {},
          "output_type": "execute_result"
        }
      ],
      "source": [
        "print(\"Accuracy:\")\n",
        "accuracy_score(eigenvector_df[\"class\"][:500], eigenvector_df[\"mapped_cluster\"][:500])"
      ]
    },
    {
      "cell_type": "code",
      "execution_count": 51,
      "metadata": {},
      "outputs": [
        {
          "name": "stdout",
          "output_type": "stream",
          "text": [
            "NMI:\n"
          ]
        },
        {
          "data": {
            "text/plain": [
              "0.8991845352528646"
            ]
          },
          "execution_count": 51,
          "metadata": {},
          "output_type": "execute_result"
        }
      ],
      "source": [
        "print(\"NMI:\")\n",
        "normalized_mutual_info_score(eigenvector_df[\"class\"][:500], eigenvector_df[\"mapped_cluster\"][:500])"
      ]
    }
  ],
  "metadata": {
    "colab": {
      "provenance": []
    },
    "kernelspec": {
      "display_name": "Python 3",
      "name": "python3"
    },
    "language_info": {
      "codemirror_mode": {
        "name": "ipython",
        "version": 3
      },
      "file_extension": ".py",
      "mimetype": "text/x-python",
      "name": "python",
      "nbconvert_exporter": "python",
      "pygments_lexer": "ipython3",
      "version": "3.10.13"
    }
  },
  "nbformat": 4,
  "nbformat_minor": 0
}
